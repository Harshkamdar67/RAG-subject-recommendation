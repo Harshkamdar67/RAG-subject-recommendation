{
 "cells": [
  {
   "cell_type": "code",
   "execution_count": 1,
   "metadata": {},
   "outputs": [
    {
     "name": "stdout",
     "output_type": "stream",
     "text": [
      "Collecting pandas\n",
      "  Using cached pandas-2.2.0-cp310-cp310-macosx_11_0_arm64.whl (11.8 MB)\n",
      "Requirement already satisfied: python-dateutil>=2.8.2 in ./quizzy_env/lib/python3.10/site-packages (from pandas) (2.8.2)\n",
      "Collecting numpy<2,>=1.22.4\n",
      "  Using cached numpy-1.26.4-cp310-cp310-macosx_11_0_arm64.whl (14.0 MB)\n",
      "Collecting tzdata>=2022.7\n",
      "  Using cached tzdata-2024.1-py2.py3-none-any.whl (345 kB)\n",
      "Collecting pytz>=2020.1\n",
      "  Using cached pytz-2024.1-py2.py3-none-any.whl (505 kB)\n",
      "Requirement already satisfied: six>=1.5 in ./quizzy_env/lib/python3.10/site-packages (from python-dateutil>=2.8.2->pandas) (1.16.0)\n",
      "Installing collected packages: pytz, tzdata, numpy, pandas\n",
      "Successfully installed numpy-1.26.4 pandas-2.2.0 pytz-2024.1 tzdata-2024.1\n",
      "\n",
      "\u001b[1m[\u001b[0m\u001b[34;49mnotice\u001b[0m\u001b[1;39;49m]\u001b[0m\u001b[39;49m A new release of pip available: \u001b[0m\u001b[31;49m22.2.2\u001b[0m\u001b[39;49m -> \u001b[0m\u001b[32;49m24.0\u001b[0m\n",
      "\u001b[1m[\u001b[0m\u001b[34;49mnotice\u001b[0m\u001b[1;39;49m]\u001b[0m\u001b[39;49m To update, run: \u001b[0m\u001b[32;49mpip install --upgrade pip\u001b[0m\n",
      "Requirement already satisfied: numpy in ./quizzy_env/lib/python3.10/site-packages (1.26.4)\n",
      "\n",
      "\u001b[1m[\u001b[0m\u001b[34;49mnotice\u001b[0m\u001b[1;39;49m]\u001b[0m\u001b[39;49m A new release of pip available: \u001b[0m\u001b[31;49m22.2.2\u001b[0m\u001b[39;49m -> \u001b[0m\u001b[32;49m24.0\u001b[0m\n",
      "\u001b[1m[\u001b[0m\u001b[34;49mnotice\u001b[0m\u001b[1;39;49m]\u001b[0m\u001b[39;49m To update, run: \u001b[0m\u001b[32;49mpip install --upgrade pip\u001b[0m\n"
     ]
    }
   ],
   "source": [
    "!pip install pandas\n",
    "!pip install numpy"
   ]
  },
  {
   "cell_type": "code",
   "execution_count": 15,
   "metadata": {},
   "outputs": [
    {
     "data": {
      "text/plain": [
       "(    Accuracy  Average Response Time      Subject           Topic\n",
       " 0  42.542882              72.903077  Mathematics         Algebra\n",
       " 1  55.582108             111.147132  Mathematics        Geometry\n",
       " 2  64.751325              74.841130  Mathematics        Calculus\n",
       " 3  85.592236             116.105219      Physics       Mechanics\n",
       " 4  57.253298             114.621380      Physics  Thermodynamics\n",
       " 5  51.833980              97.033214      Physics          Optics\n",
       " 6  55.021901              98.461812    Chemistry         Organic\n",
       " 7  86.794507             112.139767    Chemistry       Inorganic\n",
       " 8  81.003568              81.890258    Chemistry        Physical,\n",
       "        Subject           Topic  \\\n",
       " 0  Mathematics         Algebra   \n",
       " 1  Mathematics        Geometry   \n",
       " 2  Mathematics        Calculus   \n",
       " 3      Physics       Mechanics   \n",
       " 4      Physics  Thermodynamics   \n",
       " 5      Physics          Optics   \n",
       " 6    Chemistry         Organic   \n",
       " 7    Chemistry       Inorganic   \n",
       " 8    Chemistry        Physical   \n",
       " \n",
       "                                    Topic_Explanation  \n",
       " 0              Understanding variables and equations  \n",
       " 1  Studying shapes, sizes, and the properties of ...  \n",
       " 2  Exploring changes and motion; limits and deriv...  \n",
       " 3                     The study of motion and forces  \n",
       " 4                  The study of heat and temperature  \n",
       " 5              The study of light and its properties  \n",
       " 6      Study of carbon compounds and life substances  \n",
       " 7         Study of inorganic compounds and materials  \n",
       " 8      Study of chemical thermodynamics and kinetics  )"
      ]
     },
     "execution_count": 15,
     "metadata": {},
     "output_type": "execute_result"
    }
   ],
   "source": [
    "import pandas as pd\n",
    "import numpy as np\n",
    "\n",
    "np.random.seed(42)  \n",
    "\n",
    "subjects = ['Mathematics', 'Physics', 'Chemistry']\n",
    "topics_math = ['Algebra', 'Geometry', 'Calculus']\n",
    "topics_physics = ['Mechanics', 'Thermodynamics', 'Optics']\n",
    "topics_chemistry = ['Organic', 'Inorganic', 'Physical']\n",
    "\n",
    "data_performance = []\n",
    "for subject in subjects:\n",
    "    topics = topics_math if subject == 'Mathematics' else topics_physics if subject == 'Physics' else topics_chemistry\n",
    "    for topic in topics:\n",
    "        accuracy = np.random.uniform(40, 90) \n",
    "        avg_response_time = np.random.uniform(30, 120)  \n",
    "        data_performance.append([accuracy, avg_response_time, subject, topic])\n",
    "\n",
    "df_performance = pd.DataFrame(data_performance, columns=['Accuracy', 'Average Response Time', 'Subject', 'Topic'])\n",
    "\n",
    "data_content = [\n",
    "    ['Mathematics', 'Algebra', 'Understanding variables and equations'],\n",
    "    ['Mathematics', 'Geometry', 'Studying shapes, sizes, and the properties of space'],\n",
    "    ['Mathematics', 'Calculus', 'Exploring changes and motion; limits and derivatives'],\n",
    "    ['Physics', 'Mechanics', 'The study of motion and forces'],\n",
    "    ['Physics', 'Thermodynamics', 'The study of heat and temperature'],\n",
    "    ['Physics', 'Optics', 'The study of light and its properties'],\n",
    "    ['Chemistry', 'Organic', 'Study of carbon compounds and life substances'],\n",
    "    ['Chemistry', 'Inorganic', 'Study of inorganic compounds and materials'],\n",
    "    ['Chemistry', 'Physical', 'Study of chemical thermodynamics and kinetics']\n",
    "]\n",
    "\n",
    "df_content = pd.DataFrame(data_content, columns=['Subject', 'Topic', 'Topic_Explanation'])\n",
    "\n",
    "df_performance, df_content\n"
   ]
  },
  {
   "cell_type": "code",
   "execution_count": 3,
   "metadata": {},
   "outputs": [
    {
     "name": "stdout",
     "output_type": "stream",
     "text": [
      "Collecting pydantic\n",
      "  Downloading pydantic-2.6.1-py3-none-any.whl (394 kB)\n",
      "\u001b[2K     \u001b[90m━━━━━━━━━━━━━━━━━━━━━━━━━━━━━━━━━━━━━━\u001b[0m \u001b[32m394.8/394.8 kB\u001b[0m \u001b[31m41.4 kB/s\u001b[0m eta \u001b[36m0:00:00\u001b[0m00:01\u001b[0m00:01\u001b[0m\n",
      "\u001b[?25hCollecting pydantic-core==2.16.2\n",
      "  Downloading pydantic_core-2.16.2-cp310-cp310-macosx_11_0_arm64.whl (1.7 MB)\n",
      "\u001b[2K     \u001b[90m━━━━━━━━━━━━━━━━━━━━━━━━━━━━━━━━━━━━━━━━\u001b[0m \u001b[32m1.7/1.7 MB\u001b[0m \u001b[31m35.3 kB/s\u001b[0m eta \u001b[36m0:00:00\u001b[0m00:01\u001b[0m00:02\u001b[0m\n",
      "\u001b[?25hCollecting annotated-types>=0.4.0\n",
      "  Using cached annotated_types-0.6.0-py3-none-any.whl (12 kB)\n",
      "Collecting typing-extensions>=4.6.1\n",
      "  Using cached typing_extensions-4.9.0-py3-none-any.whl (32 kB)\n",
      "Installing collected packages: typing-extensions, annotated-types, pydantic-core, pydantic\n",
      "Successfully installed annotated-types-0.6.0 pydantic-2.6.1 pydantic-core-2.16.2 typing-extensions-4.9.0\n",
      "\n",
      "\u001b[1m[\u001b[0m\u001b[34;49mnotice\u001b[0m\u001b[1;39;49m]\u001b[0m\u001b[39;49m A new release of pip available: \u001b[0m\u001b[31;49m22.2.2\u001b[0m\u001b[39;49m -> \u001b[0m\u001b[32;49m24.0\u001b[0m\n",
      "\u001b[1m[\u001b[0m\u001b[34;49mnotice\u001b[0m\u001b[1;39;49m]\u001b[0m\u001b[39;49m To update, run: \u001b[0m\u001b[32;49mpip install --upgrade pip\u001b[0m\n"
     ]
    }
   ],
   "source": [
    "!pip install pydantic"
   ]
  },
  {
   "cell_type": "code",
   "execution_count": 16,
   "metadata": {},
   "outputs": [
    {
     "data": {
      "text/plain": [
       "(Performance(accuracy=42.54288186860654, average_response_time=72.90307746558943, subject='Mathematics', topic='Algebra'),\n",
       " TopicExplanation(subject='Mathematics', topic='Algebra', topic_explanation='Understanding variables and equations'))"
      ]
     },
     "execution_count": 16,
     "metadata": {},
     "output_type": "execute_result"
    }
   ],
   "source": [
    "from pydantic import BaseModel, Field\n",
    "from typing import List, Optional\n",
    "\n",
    "class Performance(BaseModel):\n",
    "    accuracy: float = Field(..., ge=0, le=100)\n",
    "    average_response_time: float = Field(..., ge=0) \n",
    "    subject: str\n",
    "    topic: str\n",
    "\n",
    "class TopicExplanation(BaseModel):\n",
    "    subject: str\n",
    "    topic: str\n",
    "    topic_explanation: str\n",
    "\n",
    "performance_records = [Performance(accuracy=row.Accuracy, average_response_time=row['Average Response Time'],\n",
    "                                   subject=row.Subject, topic=row.Topic) for index, row in df_performance.iterrows()]\n",
    "content_records = [TopicExplanation(subject=row.Subject, topic=row.Topic, topic_explanation=row.Topic_Explanation)\n",
    "                   for index, row in df_content.iterrows()]\n",
    "\n",
    "performance_records[0], content_records[0]"
   ]
  },
  {
   "cell_type": "code",
   "execution_count": 20,
   "metadata": {},
   "outputs": [
    {
     "data": {
      "text/plain": [
       "[{'Subject': 'Mathematics',\n",
       "  'Topic': 'Algebra',\n",
       "  'Current Accuracy': 42.54288186860654,\n",
       "  'Current Average Response Time': 72.90307746558943,\n",
       "  'Suggested Study': 'Understanding variables and equations'},\n",
       " {'Subject': 'Physics',\n",
       "  'Topic': 'Mechanics',\n",
       "  'Current Accuracy': 85.59223558776824,\n",
       "  'Current Average Response Time': 116.10521889832368,\n",
       "  'Suggested Study': 'The study of motion and forces'}]"
      ]
     },
     "execution_count": 20,
     "metadata": {},
     "output_type": "execute_result"
    }
   ],
   "source": [
    "from statistics import mean, stdev\n",
    "\n",
    "def calculate_dynamic_thresholds(performance_data: List[Performance]) -> (float, float):\n",
    "    accuracies = [p.accuracy for p in performance_data]\n",
    "    response_times = [p.average_response_time for p in performance_data]\n",
    "    \n",
    "    mean_accuracy = mean(accuracies)\n",
    "    stddev_accuracy = stdev(accuracies)\n",
    "    mean_response_time = mean(response_times)\n",
    "    stddev_response_time = stdev(response_times)\n",
    "    \n",
    "    accuracy_threshold = max(mean_accuracy - stddev_accuracy, 0) \n",
    "    time_threshold = mean_response_time + stddev_response_time\n",
    "    \n",
    "    return accuracy_threshold, time_threshold\n",
    "\n",
    "def query_improvement_areas_dynamic(performance_data: List[Performance], content_data: List[TopicExplanation]) -> List[dict]:\n",
    "    recommendations = []\n",
    "    \n",
    "    accuracy_threshold, time_threshold = calculate_dynamic_thresholds(performance_data)\n",
    "    \n",
    "    for performance in performance_data:\n",
    "        if performance.accuracy < accuracy_threshold or performance.average_response_time > time_threshold:\n",
    "            for content in content_data:\n",
    "                if content.subject == performance.subject and content.topic == performance.topic:\n",
    "                    recommendations.append({\n",
    "                        'Subject': performance.subject,\n",
    "                        'Topic': performance.topic,\n",
    "                        'Current Accuracy': performance.accuracy,\n",
    "                        'Current Average Response Time': performance.average_response_time,\n",
    "                        'Suggested Study': content.topic_explanation\n",
    "                    })\n",
    "                    break  \n",
    "    \n",
    "    return recommendations\n",
    "\n",
    "dynamic_improvement_recommendations = query_improvement_areas_dynamic(performance_records, content_records)\n",
    "dynamic_improvement_recommendations\n"
   ]
  }
 ],
 "metadata": {
  "kernelspec": {
   "display_name": "quizzy_env",
   "language": "python",
   "name": "python3"
  },
  "language_info": {
   "codemirror_mode": {
    "name": "ipython",
    "version": 3
   },
   "file_extension": ".py",
   "mimetype": "text/x-python",
   "name": "python",
   "nbconvert_exporter": "python",
   "pygments_lexer": "ipython3",
   "version": "3.10.7"
  }
 },
 "nbformat": 4,
 "nbformat_minor": 2
}
